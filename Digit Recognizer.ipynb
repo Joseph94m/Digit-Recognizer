{
 "cells": [
  {
   "cell_type": "markdown",
   "metadata": {},
   "source": [
    "# Import libraries"
   ]
  },
  {
   "cell_type": "code",
   "execution_count": 1,
   "metadata": {},
   "outputs": [
    {
     "name": "stderr",
     "output_type": "stream",
     "text": [
      "Using TensorFlow backend.\n"
     ]
    }
   ],
   "source": [
    "#Shared\n",
    "%matplotlib inline\n",
    "import tensorflow as tf\n",
    "import matplotlib\n",
    "import numpy as np\n",
    "import matplotlib.pyplot as plt\n",
    "import timeit\n",
    "from keras.utils import np_utils\n",
    "from __future__ import print_function\n",
    "from __future__ import absolute_import\n",
    "import keras\n",
    "import keras.backend as K\n",
    "from keras.models import Sequential, Model\n",
    "from keras.layers import *\n",
    "from keras.activations import softmax\n",
    "import zipfile\n",
    "import numpy as np\n",
    "from keras.preprocessing.image import ImageDataGenerator \n",
    "from keras import optimizers\n",
    "from scipy import ndimage\n",
    "from sklearn.model_selection import GridSearchCV\n",
    "from keras.wrappers.scikit_learn import KerasClassifier\n",
    "import pandas as pd\n",
    "from sklearn.model_selection import GridSearchCV as GS\n",
    "from scipy import misc\n",
    "from sklearn.model_selection import train_test_split\n",
    "\n",
    "config = tf.ConfigProto()\n",
    "config.gpu_options.allow_growth = True"
   ]
  },
  {
   "cell_type": "markdown",
   "metadata": {},
   "source": [
    "# Import data"
   ]
  },
  {
   "cell_type": "code",
   "execution_count": 14,
   "metadata": {},
   "outputs": [],
   "source": [
    "#!curl -o data.zip https://storage.googleapis.com/image-data-recognition/data/data.zip "
   ]
  },
  {
   "cell_type": "code",
   "execution_count": 15,
   "metadata": {},
   "outputs": [],
   "source": [
    "zf= zipfile.ZipFile('data.zip','r')\n",
    "zf.extractall()"
   ]
  },
  {
   "cell_type": "code",
   "execution_count": 16,
   "metadata": {},
   "outputs": [],
   "source": [
    "train=pd.read_csv('train.csv')\n",
    "test=pd.read_csv('test.csv')"
   ]
  },
  {
   "cell_type": "code",
   "execution_count": 17,
   "metadata": {},
   "outputs": [],
   "source": [
    "train_y_total=train['label']\n",
    "train_x_total=train.drop(['label'],1)\n",
    "test_x=test.copy()"
   ]
  },
  {
   "cell_type": "code",
   "execution_count": 18,
   "metadata": {},
   "outputs": [],
   "source": [
    "#One-hot encode labels\n",
    "train_y_total = np_utils.to_categorical(train_y_total, 10)"
   ]
  },
  {
   "cell_type": "markdown",
   "metadata": {},
   "source": [
    "## Division of data into training and validation"
   ]
  },
  {
   "cell_type": "code",
   "execution_count": 19,
   "metadata": {},
   "outputs": [
    {
     "name": "stdout",
     "output_type": "stream",
     "text": [
      "(33600, 784) (33600, 10)\n",
      "(8400, 784) (8400, 10)\n"
     ]
    }
   ],
   "source": [
    "train_x, valid_x, train_y, valid_y = train_test_split(train_x_total, train_y_total, test_size=0.2)\n",
    "print (train_x.shape, train_y.shape)\n",
    "print (valid_x.shape, valid_y.shape)"
   ]
  },
  {
   "cell_type": "code",
   "execution_count": 20,
   "metadata": {},
   "outputs": [],
   "source": [
    "#Transform dataframes into numpy arrays\n",
    "train_x_array=train_x.values\n",
    "train_y_array=train_y.copy()\n",
    "valid_x_array=valid_x.values\n",
    "valid_y_array=valid_y.copy()\n",
    "test_x_array=test_x.values\n",
    "\n",
    "train_x_total_array=train_x_total.values\n",
    "train_y_total_array=train_y_total.copy()\n"
   ]
  },
  {
   "cell_type": "code",
   "execution_count": 21,
   "metadata": {},
   "outputs": [
    {
     "data": {
      "image/png": "[encoded data removed]",
      "text/plain": [
       "<matplotlib.figure.Figure at 0x17fc8dd5780>"
      ]
     },
     "metadata": {
      "needs_background": "light"
     },
     "output_type": "display_data"
    },
    {
     "data": {
      "image/png": "[encoded data removed]",
      "text/plain": [
       "<matplotlib.figure.Figure at 0x17fc8dd5e48>"
      ]
     },
     "metadata": {
      "needs_background": "light"
     },
     "output_type": "display_data"
    },
    {
     "data": {
      "image/png": "[encoded data removed]",
      "text/plain": [
       "<matplotlib.figure.Figure at 0x17f9028cda0>"
      ]
     },
     "metadata": {
      "needs_background": "light"
     },
     "output_type": "display_data"
    }
   ],
   "source": [
    "#Reshape data into 28x28\n",
    "train_x_array_reshaped=train_x_array.reshape((train_x_array.shape[0],28,28,1))\n",
    "valid_x_array_reshaped=valid_x_array.reshape((valid_x_array.shape[0],28,28,1))\n",
    "test_x_array_reshaped=test_x_array.reshape((test_x_array.shape[0],28,28,1))\n",
    "train_x_total_array_reshaped=train_x_total_array.reshape((train_x_total_array.shape[0],28,28,1))\n",
    "plt.imshow(train_x_array_reshaped[0,:,:,0])\n",
    "plt.show()\n",
    "plt.imshow(valid_x_array_reshaped[0,:,:,0])\n",
    "plt.show()\n",
    "plt.imshow(test_x_array_reshaped[0,:,:,0])\n",
    "plt.show()"
   ]
  },
  {
   "cell_type": "markdown",
   "metadata": {},
   "source": [
    "# Definition of the model"
   ]
  },
  {
   "cell_type": "code",
   "execution_count": 22,
   "metadata": {},
   "outputs": [],
   "source": [
    "#Creation of a model\n",
    "def CNN(dropout_rate=0.0,activation='relu',density=128,lr=0.001,first_conv=64,second_conv=32,third_conv=32):\n",
    "  print(dropout_rate, density,first_conv ,second_conv,third_conv)\n",
    "  model = Sequential()\n",
    "  model.add(Conv2D(first_conv, kernel_size=(3, 3),\n",
    "                 activation=activation,\n",
    "                 input_shape=(28,28,1)))\n",
    "  model.add(BatchNormalization())\n",
    "  model.add(MaxPooling2D(pool_size=(2, 2)))\n",
    "  model.add(Conv2D(second_conv, (2, 2), activation=activation))\n",
    "  model.add(BatchNormalization())\n",
    "  model.add(MaxPooling2D(pool_size=(2, 2)))\n",
    "  model.add(Dropout(dropout_rate))\n",
    "  model.add(Conv2D(third_conv, (3, 3), activation=activation))\n",
    "  model.add(BatchNormalization())\n",
    "  model.add(MaxPooling2D(pool_size=(2, 2)))\n",
    "  model.add(Flatten())\n",
    "  model.add(Dense(density, activation='relu'))\n",
    "  model.add(Dropout(dropout_rate))\n",
    "  model.add(Dense(10, activation='softmax'))\n",
    "  model.summary()\n",
    "#Compilation of the model\n",
    "  model.compile(loss=keras.losses.categorical_crossentropy,\n",
    "              optimizer=optimizers.Adam(lr=lr),\n",
    "              metrics=['accuracy'])\n",
    "  return model"
   ]
  },
  {
   "cell_type": "code",
   "execution_count": 31,
   "metadata": {},
   "outputs": [],
   "source": [
    "#Model initialization\n",
    "np.random.seed(99)\n",
    "model = KerasClassifier(build_fn=CNN,epochs=30,batch_size=128,dropout_rate=0.3,density=1024,first_conv=64,second_conv=16,third_conv=32)"
   ]
  },
  {
   "cell_type": "markdown",
   "metadata": {},
   "source": [
    "# Grid search over parameters"
   ]
  },
  {
   "cell_type": "code",
   "execution_count": null,
   "metadata": {},
   "outputs": [],
   "source": [
    "#Joseph\n",
    "#Gridsearch parameters\n",
    "parameters = {\n",
    "            'dropout_rate':(0,0.2,0.3,0.4,0.5),\n",
    "           # 'epochs' :(10,20,30),\n",
    "            #'batch_size':(128,256,512,1024),\n",
    "            'density': (64,124),\n",
    "            #'first_conv':(32,64),\n",
    "            #'second_conv':(16,32,64),\n",
    "            #'third_conv':(16,32,64)\n",
    "             }\n",
    "\n",
    "gs = GS(estimator=model, param_grid=parameters,verbose=True)\n",
    "gs.fit(train_x_total_array_reshaped, train_y_total)\n"
   ]
  },
  {
   "cell_type": "markdown",
   "metadata": {},
   "source": [
    "# Training"
   ]
  },
  {
   "cell_type": "code",
   "execution_count": 32,
   "metadata": {},
   "outputs": [
    {
     "name": "stdout",
     "output_type": "stream",
     "text": [
      "0.3 1024 64 16 32\n",
      "_________________________________________________________________\n",
      "Layer (type)                 Output Shape              Param #   \n",
      "=================================================================\n",
      "conv2d_13 (Conv2D)           (None, 26, 26, 64)        640       \n",
      "_________________________________________________________________\n",
      "batch_normalization_13 (Batc (None, 26, 26, 64)        256       \n",
      "_________________________________________________________________\n",
      "max_pooling2d_13 (MaxPooling (None, 13, 13, 64)        0         \n",
      "_________________________________________________________________\n",
      "conv2d_14 (Conv2D)           (None, 12, 12, 16)        4112      \n",
      "_________________________________________________________________\n",
      "batch_normalization_14 (Batc (None, 12, 12, 16)        64        \n",
      "_________________________________________________________________\n",
      "max_pooling2d_14 (MaxPooling (None, 6, 6, 16)          0         \n",
      "_________________________________________________________________\n",
      "dropout_9 (Dropout)          (None, 6, 6, 16)          0         \n",
      "_________________________________________________________________\n",
      "conv2d_15 (Conv2D)           (None, 4, 4, 32)          4640      \n",
      "_________________________________________________________________\n",
      "batch_normalization_15 (Batc (None, 4, 4, 32)          128       \n",
      "_________________________________________________________________\n",
      "max_pooling2d_15 (MaxPooling (None, 2, 2, 32)          0         \n",
      "_________________________________________________________________\n",
      "flatten_5 (Flatten)          (None, 128)               0         \n",
      "_________________________________________________________________\n",
      "dense_9 (Dense)              (None, 1024)              132096    \n",
      "_________________________________________________________________\n",
      "dropout_10 (Dropout)         (None, 1024)              0         \n",
      "_________________________________________________________________\n",
      "dense_10 (Dense)             (None, 10)                10250     \n",
      "=================================================================\n",
      "Total params: 152,186\n",
      "Trainable params: 151,962\n",
      "Non-trainable params: 224\n",
      "_________________________________________________________________\n",
      "Train on 33600 samples, validate on 8400 samples\n",
      "Epoch 1/30\n",
      "33600/33600 [==============================] - 5s 160us/step - loss: 0.2900 - acc: 0.9074 - val_loss: 0.0982 - val_acc: 0.9686\n",
      "Epoch 2/30\n",
      "33600/33600 [==============================] - 4s 114us/step - loss: 0.0947 - acc: 0.9712 - val_loss: 0.0569 - val_acc: 0.9817\n",
      "Epoch 3/30\n",
      "33600/33600 [==============================] - 4s 114us/step - loss: 0.0725 - acc: 0.9766 - val_loss: 0.0449 - val_acc: 0.9857\n",
      "Epoch 4/30\n",
      "33600/33600 [==============================] - 4s 115us/step - loss: 0.0560 - acc: 0.9825 - val_loss: 0.0442 - val_acc: 0.9862\n",
      "Epoch 5/30\n",
      "33600/33600 [==============================] - 4s 115us/step - loss: 0.0500 - acc: 0.9838 - val_loss: 0.0355 - val_acc: 0.9887\n",
      "Epoch 6/30\n",
      "33600/33600 [==============================] - 4s 117us/step - loss: 0.0453 - acc: 0.9847 - val_loss: 0.0395 - val_acc: 0.9879\n",
      "Epoch 7/30\n",
      "33600/33600 [==============================] - 4s 116us/step - loss: 0.0423 - acc: 0.9861 - val_loss: 0.0419 - val_acc: 0.9874\n",
      "Epoch 8/30\n",
      "33600/33600 [==============================] - 4s 113us/step - loss: 0.0384 - acc: 0.9870 - val_loss: 0.0404 - val_acc: 0.9874\n",
      "Epoch 9/30\n",
      "33600/33600 [==============================] - 4s 113us/step - loss: 0.0333 - acc: 0.9893 - val_loss: 0.0343 - val_acc: 0.9893\n",
      "Epoch 10/30\n",
      "33600/33600 [==============================] - 4s 114us/step - loss: 0.0338 - acc: 0.9883 - val_loss: 0.0368 - val_acc: 0.9885\n",
      "Epoch 11/30\n",
      "33600/33600 [==============================] - 4s 115us/step - loss: 0.0334 - acc: 0.9891 - val_loss: 0.0347 - val_acc: 0.9894\n",
      "Epoch 12/30\n",
      "33600/33600 [==============================] - 4s 115us/step - loss: 0.0317 - acc: 0.9894 - val_loss: 0.0297 - val_acc: 0.9920\n",
      "Epoch 13/30\n",
      "33600/33600 [==============================] - 4s 114us/step - loss: 0.0271 - acc: 0.9916 - val_loss: 0.0342 - val_acc: 0.9901\n",
      "Epoch 14/30\n",
      "33600/33600 [==============================] - 4s 117us/step - loss: 0.0258 - acc: 0.9917 - val_loss: 0.0363 - val_acc: 0.9901\n",
      "Epoch 15/30\n",
      "33600/33600 [==============================] - 4s 117us/step - loss: 0.0286 - acc: 0.9906 - val_loss: 0.0341 - val_acc: 0.9910\n",
      "Epoch 16/30\n",
      "33600/33600 [==============================] - 4s 116us/step - loss: 0.0257 - acc: 0.9915 - val_loss: 0.0296 - val_acc: 0.9918\n",
      "Epoch 17/30\n",
      "33600/33600 [==============================] - 4s 114us/step - loss: 0.0245 - acc: 0.9916 - val_loss: 0.0425 - val_acc: 0.9882\n",
      "Epoch 18/30\n",
      "33600/33600 [==============================] - 4s 114us/step - loss: 0.0235 - acc: 0.9920 - val_loss: 0.0352 - val_acc: 0.9901\n",
      "Epoch 19/30\n",
      "33600/33600 [==============================] - 4s 113us/step - loss: 0.0236 - acc: 0.9923 - val_loss: 0.0369 - val_acc: 0.9899\n",
      "Epoch 20/30\n",
      "33600/33600 [==============================] - 4s 115us/step - loss: 0.0210 - acc: 0.9931 - val_loss: 0.0360 - val_acc: 0.9901\n",
      "Epoch 21/30\n",
      "33600/33600 [==============================] - 4s 114us/step - loss: 0.0199 - acc: 0.9930 - val_loss: 0.0363 - val_acc: 0.9892\n",
      "Epoch 22/30\n",
      "33600/33600 [==============================] - 4s 116us/step - loss: 0.0202 - acc: 0.9934 - val_loss: 0.0332 - val_acc: 0.9917\n",
      "Epoch 23/30\n",
      "33600/33600 [==============================] - 4s 117us/step - loss: 0.0198 - acc: 0.9936 - val_loss: 0.0347 - val_acc: 0.9915\n",
      "Epoch 24/30\n",
      "33600/33600 [==============================] - 4s 116us/step - loss: 0.0194 - acc: 0.9932 - val_loss: 0.0496 - val_acc: 0.9879\n",
      "Epoch 25/30\n",
      "33600/33600 [==============================] - 4s 115us/step - loss: 0.0209 - acc: 0.9927 - val_loss: 0.0308 - val_acc: 0.9930\n",
      "Epoch 26/30\n",
      "33600/33600 [==============================] - 4s 113us/step - loss: 0.0176 - acc: 0.9939 - val_loss: 0.0346 - val_acc: 0.9915\n",
      "Epoch 27/30\n",
      "33600/33600 [==============================] - 4s 112us/step - loss: 0.0186 - acc: 0.9940 - val_loss: 0.0387 - val_acc: 0.9900\n",
      "Epoch 28/30\n",
      "33600/33600 [==============================] - 4s 113us/step - loss: 0.0185 - acc: 0.9938 - val_loss: 0.0406 - val_acc: 0.9900\n",
      "Epoch 29/30\n",
      "33600/33600 [==============================] - 4s 112us/step - loss: 0.0167 - acc: 0.9945 - val_loss: 0.0391 - val_acc: 0.9900\n",
      "Epoch 30/30\n",
      "33600/33600 [==============================] - 4s 115us/step - loss: 0.0162 - acc: 0.9943 - val_loss: 0.0389 - val_acc: 0.9913\n"
     ]
    }
   ],
   "source": [
    "#Training using the gridsearch wrapper without data augmentation\n",
    "history =model.fit(train_x_array_reshaped/255, train_y_array,\n",
    "          verbose=1,\n",
    "          validation_data=(valid_x_array_reshaped/255, valid_y_array))"
   ]
  },
  {
   "cell_type": "code",
   "execution_count": 34,
   "metadata": {},
   "outputs": [
    {
     "name": "stdout",
     "output_type": "stream",
     "text": [
      "0.3 1024 64 16 32\n",
      "_________________________________________________________________\n",
      "Layer (type)                 Output Shape              Param #   \n",
      "=================================================================\n",
      "conv2d_16 (Conv2D)           (None, 26, 26, 64)        640       \n",
      "_________________________________________________________________\n",
      "batch_normalization_16 (Batc (None, 26, 26, 64)        256       \n",
      "_________________________________________________________________\n",
      "max_pooling2d_16 (MaxPooling (None, 13, 13, 64)        0         \n",
      "_________________________________________________________________\n",
      "conv2d_17 (Conv2D)           (None, 12, 12, 16)        4112      \n",
      "_________________________________________________________________\n",
      "batch_normalization_17 (Batc (None, 12, 12, 16)        64        \n",
      "_________________________________________________________________\n",
      "max_pooling2d_17 (MaxPooling (None, 6, 6, 16)          0         \n",
      "_________________________________________________________________\n",
      "dropout_11 (Dropout)         (None, 6, 6, 16)          0         \n",
      "_________________________________________________________________\n",
      "conv2d_18 (Conv2D)           (None, 4, 4, 32)          4640      \n",
      "_________________________________________________________________\n",
      "batch_normalization_18 (Batc (None, 4, 4, 32)          128       \n",
      "_________________________________________________________________\n",
      "max_pooling2d_18 (MaxPooling (None, 2, 2, 32)          0         \n",
      "_________________________________________________________________\n",
      "flatten_6 (Flatten)          (None, 128)               0         \n",
      "_________________________________________________________________\n",
      "dense_11 (Dense)             (None, 1024)              132096    \n",
      "_________________________________________________________________\n",
      "dropout_12 (Dropout)         (None, 1024)              0         \n",
      "_________________________________________________________________\n",
      "dense_12 (Dense)             (None, 10)                10250     \n",
      "=================================================================\n",
      "Total params: 152,186\n",
      "Trainable params: 151,962\n",
      "Non-trainable params: 224\n",
      "_________________________________________________________________\n",
      "Epoch 1/30\n",
      "42000/42000 [==============================] - 6s 152us/step - loss: 0.2647 - acc: 0.9132\n",
      "Epoch 2/30\n",
      "42000/42000 [==============================] - 5s 110us/step - loss: 0.0866 - acc: 0.9722\n",
      "Epoch 3/30\n",
      "42000/42000 [==============================] - 5s 108us/step - loss: 0.0657 - acc: 0.9786\n",
      "Epoch 4/30\n",
      "42000/42000 [==============================] - 5s 108us/step - loss: 0.0559 - acc: 0.9827\n",
      "Epoch 5/30\n",
      "42000/42000 [==============================] - 5s 109us/step - loss: 0.0476 - acc: 0.9849\n",
      "Epoch 6/30\n",
      "42000/42000 [==============================] - 5s 108us/step - loss: 0.0426 - acc: 0.9864\n",
      "Epoch 7/30\n",
      "42000/42000 [==============================] - 5s 107us/step - loss: 0.0400 - acc: 0.9870\n",
      "Epoch 8/30\n",
      "42000/42000 [==============================] - 4s 106us/step - loss: 0.0363 - acc: 0.9880\n",
      "Epoch 9/30\n",
      "42000/42000 [==============================] - 4s 106us/step - loss: 0.0371 - acc: 0.9882\n",
      "Epoch 10/30\n",
      "42000/42000 [==============================] - 4s 105us/step - loss: 0.0316 - acc: 0.9900\n",
      "Epoch 11/30\n",
      "42000/42000 [==============================] - 4s 106us/step - loss: 0.0291 - acc: 0.9902\n",
      "Epoch 12/30\n",
      "42000/42000 [==============================] - 4s 107us/step - loss: 0.0298 - acc: 0.9899\n",
      "Epoch 13/30\n",
      "42000/42000 [==============================] - 4s 106us/step - loss: 0.0285 - acc: 0.9906\n",
      "Epoch 14/30\n",
      "42000/42000 [==============================] - 5s 107us/step - loss: 0.0286 - acc: 0.9904\n",
      "Epoch 15/30\n",
      "42000/42000 [==============================] - 4s 107us/step - loss: 0.0242 - acc: 0.9924\n",
      "Epoch 16/30\n",
      "42000/42000 [==============================] - 5s 107us/step - loss: 0.0241 - acc: 0.9923\n",
      "Epoch 17/30\n",
      "42000/42000 [==============================] - 4s 106us/step - loss: 0.0243 - acc: 0.9920\n",
      "Epoch 18/30\n",
      "42000/42000 [==============================] - 5s 108us/step - loss: 0.0227 - acc: 0.9925\n",
      "Epoch 19/30\n",
      "42000/42000 [==============================] - 4s 107us/step - loss: 0.0209 - acc: 0.9928\n",
      "Epoch 20/30\n",
      "42000/42000 [==============================] - 5s 108us/step - loss: 0.0218 - acc: 0.9928\n",
      "Epoch 21/30\n",
      "42000/42000 [==============================] - 4s 107us/step - loss: 0.0207 - acc: 0.9934\n",
      "Epoch 22/30\n",
      "42000/42000 [==============================] - 4s 106us/step - loss: 0.0189 - acc: 0.9940\n",
      "Epoch 23/30\n",
      "42000/42000 [==============================] - 5s 108us/step - loss: 0.0216 - acc: 0.9925\n",
      "Epoch 24/30\n",
      "42000/42000 [==============================] - 5s 120us/step - loss: 0.0200 - acc: 0.9932\n",
      "Epoch 25/30\n",
      "42000/42000 [==============================] - 5s 113us/step - loss: 0.0187 - acc: 0.9934\n",
      "Epoch 26/30\n",
      "42000/42000 [==============================] - 5s 113us/step - loss: 0.0193 - acc: 0.9933\n",
      "Epoch 27/30\n",
      "42000/42000 [==============================] - 5s 112us/step - loss: 0.0170 - acc: 0.9943\n",
      "Epoch 28/30\n",
      "42000/42000 [==============================] - 5s 111us/step - loss: 0.0184 - acc: 0.9937\n",
      "Epoch 29/30\n",
      "42000/42000 [==============================] - 5s 112us/step - loss: 0.0179 - acc: 0.9944\n",
      "Epoch 30/30\n",
      "42000/42000 [==============================] - 5s 111us/step - loss: 0.0179 - acc: 0.9946\n"
     ]
    },
    {
     "data": {
      "text/plain": [
       "<keras.callbacks.History at 0x18167115278>"
      ]
     },
     "execution_count": 34,
     "metadata": {},
     "output_type": "execute_result"
    }
   ],
   "source": [
    "model.fit(train_x_total_array_reshaped, train_y_total_array,\n",
    "          verbose=1)"
   ]
  },
  {
   "cell_type": "code",
   "execution_count": 35,
   "metadata": {},
   "outputs": [
    {
     "name": "stdout",
     "output_type": "stream",
     "text": [
      "0.3 1024 64 16 32\n",
      "_________________________________________________________________\n",
      "Layer (type)                 Output Shape              Param #   \n",
      "=================================================================\n",
      "conv2d_19 (Conv2D)           (None, 26, 26, 64)        640       \n",
      "_________________________________________________________________\n",
      "batch_normalization_19 (Batc (None, 26, 26, 64)        256       \n",
      "_________________________________________________________________\n",
      "max_pooling2d_19 (MaxPooling (None, 13, 13, 64)        0         \n",
      "_________________________________________________________________\n",
      "conv2d_20 (Conv2D)           (None, 12, 12, 16)        4112      \n",
      "_________________________________________________________________\n",
      "batch_normalization_20 (Batc (None, 12, 12, 16)        64        \n",
      "_________________________________________________________________\n",
      "max_pooling2d_20 (MaxPooling (None, 6, 6, 16)          0         \n",
      "_________________________________________________________________\n",
      "dropout_13 (Dropout)         (None, 6, 6, 16)          0         \n",
      "_________________________________________________________________\n",
      "conv2d_21 (Conv2D)           (None, 4, 4, 32)          4640      \n",
      "_________________________________________________________________\n",
      "batch_normalization_21 (Batc (None, 4, 4, 32)          128       \n",
      "_________________________________________________________________\n",
      "max_pooling2d_21 (MaxPooling (None, 2, 2, 32)          0         \n",
      "_________________________________________________________________\n",
      "flatten_7 (Flatten)          (None, 128)               0         \n",
      "_________________________________________________________________\n",
      "dense_13 (Dense)             (None, 1024)              132096    \n",
      "_________________________________________________________________\n",
      "dropout_14 (Dropout)         (None, 1024)              0         \n",
      "_________________________________________________________________\n",
      "dense_14 (Dense)             (None, 10)                10250     \n",
      "=================================================================\n",
      "Total params: 152,186\n",
      "Trainable params: 151,962\n",
      "Non-trainable params: 224\n",
      "_________________________________________________________________\n",
      "Epoch 1/30\n",
      "42/42 [==============================] - 9s 215ms/step - loss: 1.1405 - acc: 0.6137\n",
      "Epoch 2/30\n",
      "42/42 [==============================] - 9s 205ms/step - loss: 0.4702 - acc: 0.8515\n",
      "Epoch 3/30\n",
      "42/42 [==============================] - 8s 202ms/step - loss: 0.3598 - acc: 0.8869\n",
      "Epoch 4/30\n",
      "42/42 [==============================] - 9s 208ms/step - loss: 0.2655 - acc: 0.9167\n",
      "Epoch 5/30\n",
      "42/42 [==============================] - 9s 203ms/step - loss: 0.2280 - acc: 0.9275\n",
      "Epoch 6/30\n",
      "42/42 [==============================] - 8s 201ms/step - loss: 0.1888 - acc: 0.9409\n",
      "Epoch 7/30\n",
      "42/42 [==============================] - 9s 208ms/step - loss: 0.1793 - acc: 0.9437\n",
      "Epoch 8/30\n",
      "42/42 [==============================] - 8s 201ms/step - loss: 0.1649 - acc: 0.9486\n",
      "Epoch 9/30\n",
      "42/42 [==============================] - 8s 198ms/step - loss: 0.1501 - acc: 0.9519\n",
      "Epoch 10/30\n",
      "42/42 [==============================] - 8s 198ms/step - loss: 0.1381 - acc: 0.9572\n",
      "Epoch 11/30\n",
      "42/42 [==============================] - 8s 199ms/step - loss: 0.1343 - acc: 0.9578\n",
      "Epoch 12/30\n",
      "42/42 [==============================] - 8s 200ms/step - loss: 0.1329 - acc: 0.9582\n",
      "Epoch 13/30\n",
      "42/42 [==============================] - 9s 210ms/step - loss: 0.1223 - acc: 0.9619\n",
      "Epoch 14/30\n",
      "42/42 [==============================] - 9s 204ms/step - loss: 0.1144 - acc: 0.9637\n",
      "Epoch 15/30\n",
      "42/42 [==============================] - 9s 203ms/step - loss: 0.1119 - acc: 0.9645\n",
      "Epoch 16/30\n",
      "42/42 [==============================] - 9s 203ms/step - loss: 0.1062 - acc: 0.9667\n",
      "Epoch 17/30\n",
      "42/42 [==============================] - 8s 202ms/step - loss: 0.0988 - acc: 0.9689\n",
      "Epoch 18/30\n",
      "42/42 [==============================] - 9s 203ms/step - loss: 0.1114 - acc: 0.9639 5s - l\n",
      "Epoch 19/30\n",
      "42/42 [==============================] - 8s 202ms/step - loss: 0.1067 - acc: 0.9650\n",
      "Epoch 20/30\n",
      "42/42 [==============================] - 9s 204ms/step - loss: 0.1030 - acc: 0.9665\n",
      "Epoch 21/30\n",
      "42/42 [==============================] - 9s 204ms/step - loss: 0.1003 - acc: 0.9689\n",
      "Epoch 22/30\n",
      "42/42 [==============================] - 9s 211ms/step - loss: 0.1069 - acc: 0.9669\n",
      "Epoch 23/30\n",
      "42/42 [==============================] - 9s 204ms/step - loss: 0.0951 - acc: 0.9705\n",
      "Epoch 24/30\n",
      "42/42 [==============================] - 9s 211ms/step - loss: 0.0832 - acc: 0.9737\n",
      "Epoch 25/30\n",
      "42/42 [==============================] - 9s 213ms/step - loss: 0.0815 - acc: 0.9748\n",
      "Epoch 26/30\n",
      "42/42 [==============================] - 10s 228ms/step - loss: 0.0835 - acc: 0.9740\n",
      "Epoch 27/30\n",
      "42/42 [==============================] - 9s 210ms/step - loss: 0.0804 - acc: 0.9748\n",
      "Epoch 28/30\n",
      "42/42 [==============================] - 9s 210ms/step - loss: 0.0820 - acc: 0.9737\n",
      "Epoch 29/30\n",
      "42/42 [==============================] - 9s 220ms/step - loss: 0.0856 - acc: 0.9736\n",
      "Epoch 30/30\n",
      "42/42 [==============================] - 9s 203ms/step - loss: 0.0867 - acc: 0.9726\n"
     ]
    }
   ],
   "source": [
    "#Training using data augmentation\n",
    "datagen = ImageDataGenerator(\n",
    "        featurewise_center=False,  # set input mean to 0 over the dataset\n",
    "        samplewise_center=False,  # set each sample mean to 0\n",
    "        featurewise_std_normalization=False,  # divide inputs by std of the dataset\n",
    "        samplewise_std_normalization=False,  # divide each input by its std\n",
    "        zca_whitening=False,  # apply ZCA whitening\n",
    "        rotation_range=15,  # randomly rotate images in the range (degrees, 0 to 180)\n",
    "        zoom_range = 0.15, # Randomly zoom image \n",
    "        width_shift_range=0.15,  # randomly shift images horizontally (fraction of total width)\n",
    "        height_shift_range=0.15,  # randomly shift images vertically (fraction of total height)\n",
    "        horizontal_flip=False,  # randomly flip images\n",
    "        vertical_flip=False)  # randomly flip images\n",
    "\n",
    "datagen.fit(train_x_array_reshaped)\n",
    "\n",
    "model=CNN(dropout_rate=0.3,density=1024,first_conv=64,second_conv=16,third_conv=32)\n",
    "history= model.fit_generator(datagen.flow(train_x_total_array_reshaped, train_y_total_array,batch_size=1024),\n",
    "            epochs = 30,  \n",
    "           #validation_data=(valid_x_array_reshaped, valid_y_array),\n",
    "            verbose = 1,\n",
    "           )"
   ]
  },
  {
   "cell_type": "markdown",
   "metadata": {},
   "source": [
    "# Visualize validation and training error"
   ]
  },
  {
   "cell_type": "code",
   "execution_count": 33,
   "metadata": {},
   "outputs": [
    {
     "name": "stdout",
     "output_type": "stream",
     "text": [
      "dict_keys(['val_loss', 'val_acc', 'loss', 'acc'])\n"
     ]
    },
    {
     "data": {
      "image/png": "[encoded data removed]",
      "text/plain": [
       "<matplotlib.figure.Figure at 0x18167337d30>"
      ]
     },
     "metadata": {
      "needs_background": "light"
     },
     "output_type": "display_data"
    },
    {
     "data": {
      "image/png": "[encoded data removed]",
      "text/plain": [
       "<matplotlib.figure.Figure at 0x181672e3978>"
      ]
     },
     "metadata": {
      "needs_background": "light"
     },
     "output_type": "display_data"
    }
   ],
   "source": [
    "fig_size = plt.rcParams[\"figure.figsize\"]\n",
    "# Set figure width to 12 and height to 9\n",
    "fig_size[0] = 10\n",
    "fig_size[1] = 10\n",
    "\n",
    "\n",
    "\n",
    "print(history.history.keys())\n",
    "#summarize history for accuracy\n",
    "plt.plot(history.history['acc'])\n",
    "plt.plot(history.history['val_acc'])\n",
    "plt.title('model accuracy')\n",
    "plt.ylabel('accuracy')\n",
    "plt.xlabel('epoch')\n",
    "plt.legend(['train', 'test'], loc='upper left')\n",
    "plt.show()\n",
    "#summarize history for loss\n",
    "plt.plot(history.history['loss'])\n",
    "plt.plot(history.history['val_loss'])\n",
    "plt.title('model loss')\n",
    "plt.ylabel('loss')\n",
    "plt.xlabel('epoch')\n",
    "plt.legend(['train', 'test'], loc='upper left')\n",
    "plt.show()"
   ]
  },
  {
   "cell_type": "markdown",
   "metadata": {},
   "source": [
    "# Prediction"
   ]
  },
  {
   "cell_type": "code",
   "execution_count": 36,
   "metadata": {},
   "outputs": [],
   "source": [
    "values = model.predict(test_x_array_reshaped)\n",
    "reverse_encoding = pd.DataFrame(values).idxmax(axis=1)"
   ]
  },
  {
   "cell_type": "code",
   "execution_count": 37,
   "metadata": {},
   "outputs": [
    {
     "data": {
      "text/plain": [
       "array([[  6.96017910e-09,   1.85436932e-09,   9.99997497e-01,\n",
       "          5.05466403e-07,   3.37304229e-09,   7.98646127e-09,\n",
       "          1.30117347e-12,   1.93383289e-06,   2.61832049e-08,\n",
       "          1.07369459e-07],\n",
       "       [  9.99794662e-01,   4.19894732e-08,   2.40524114e-05,\n",
       "          4.38918676e-07,   6.36282721e-06,   2.68072890e-05,\n",
       "          2.05291963e-05,   4.58710929e-06,   8.96961046e-06,\n",
       "          1.13716749e-04],\n",
       "       [  6.73433874e-07,   1.72585771e-06,   1.60109092e-04,\n",
       "          3.68276560e-05,   2.14126823e-03,   5.64195989e-06,\n",
       "          3.98228053e-07,   4.43912391e-03,   3.11542244e-05,\n",
       "          9.93183076e-01]], dtype=float32)"
      ]
     },
     "execution_count": 37,
     "metadata": {},
     "output_type": "execute_result"
    }
   ],
   "source": [
    "values[0:3]"
   ]
  },
  {
   "cell_type": "code",
   "execution_count": 39,
   "metadata": {},
   "outputs": [],
   "source": [
    "n_points = values.shape[0]\n",
    "y_pred_pp = np.ones((n_points, 2))\n",
    "y_pred_pp[:, 0] = np.arange(test_x.shape[0])+1\n",
    "y_pred_pp[:, 1] = reverse_encoding #you migh want to replace values with reverse_encoding or vice versa\n",
    "np.savetxt('cnn.csv', y_pred_pp, fmt='%d', delimiter=',',header=\"ImageId,Label\",comments='')"
   ]
  },
  {
   "cell_type": "code",
   "execution_count": null,
   "metadata": {},
   "outputs": [],
   "source": []
  }
 ],
 "metadata": {
  "kernelspec": {
   "display_name": "Python 3",
   "language": "python",
   "name": "python3"
  },
  "language_info": {
   "codemirror_mode": {
    "name": "ipython",
    "version": 3
   },
   "file_extension": ".py",
   "mimetype": "text/x-python",
   "name": "python",
   "nbconvert_exporter": "python",
   "pygments_lexer": "ipython3",
   "version": "3.6.2"
  }
 },
 "nbformat": 4,
 "nbformat_minor": 2
}
